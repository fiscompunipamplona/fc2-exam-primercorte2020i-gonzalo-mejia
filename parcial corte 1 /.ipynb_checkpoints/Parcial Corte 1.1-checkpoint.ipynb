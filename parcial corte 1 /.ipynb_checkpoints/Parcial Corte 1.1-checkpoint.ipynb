{
 "cells": [
  {
   "cell_type": "markdown",
   "metadata": {},
   "source": [
    "# Exámen Física computacional II (2020-I)\n",
    "\n",
    "## Primera parte: interpretación de los momentos de una distribución para un conjunto de datos\n",
    "\n",
    "En esta primera parte interpretaremos los momentos, covarianza y correlación de las variables columna dedas en el archivo “planets_2020.04.13_08.06.56.tab”, el cual contiene información   de la NASA  sobre explanetas que han sido decubiertos.\n",
    "\n",
    "La estructura del archivo *planets_2020.04.13_08.06.56.tab* está dada por filas y columnas, donde cada fila corresponde a la información de un exoplaneta, y las columnas están organizadas de la siguiente manera:\n",
    "\n",
    "pl_orbper  pl_orbsmax  pl_orbeccen pl_orbincl  pl_bmassj pl_radj pl_dens st_dist st_teff st_mass st_rad\n",
    "\n",
    "donde:\n",
    "\n",
    "- **pl_orbper**: período orbital\n",
    "\n",
    "- **pl_orbsmax**: distancia orbital del semi-eje mayor\n",
    "\n",
    "- **pl_orbeccen**: excentricidad\n",
    "\n",
    "- **pl_orbincl**: ángulo de inclinación\n",
    "\n",
    "- **pl_bmassj**: masa del planeta; en unidades de la masa de Júpiter\n",
    "\n",
    "- **pl_radj**: radio del planeta; en unidades del radio de Júpiter\n",
    "\n",
    "- **pl_dens**: densidad del plante; en unidades de la densidad de Júpiter\n",
    "\n",
    "- **st_dist**: distancia desde la Tierra; en unidades de parsec\n",
    "\n",
    "- **st_teff**: temperatura efectiva de la estrella; en unidades de K\n",
    "\n",
    "- **st_mass**: masa de la estrella; en unidades de masa solar\n",
    "\n",
    "- **st_rad**: radio de la estretlla; en unidades de radio solar"
   ]
  },
  {
   "cell_type": "markdown",
   "metadata": {},
   "source": [
    "Comenzaremos haciendo una class en la cual crearemos los codigos para calcular los momentos de una distribución como:\n",
    "- **media**\n",
    "- **varianza**\n",
    "- **desvación estandar**\n",
    "- **skew**\n",
    "- **kurtosis**\n",
    "- **covarianza**\n",
    "- **correlación**"
   ]
  },
  {
   "cell_type": "code",
   "execution_count": 1,
   "metadata": {},
   "outputs": [],
   "source": [
    "from parcial import Datasp # llamamos la class\n",
    "from numpy import* # importar libreria numpy\n",
    "from tabulate import tabulate"
   ]
  },
  {
   "cell_type": "code",
   "execution_count": 2,
   "metadata": {},
   "outputs": [
    {
     "name": "stdout",
     "output_type": "stream",
     "text": [
      "1.51087081\n",
      "(218, 11)\n"
     ]
    }
   ],
   "source": [
    "data = loadtxt('planets_2020.04.13_08.06.56.tab')#extraer datos\n",
    "print(data[0,0]) #mostrar el primer valor del vector\n",
    "print(shape(data))# ver tamaño del vector"
   ]
  },
  {
   "cell_type": "code",
   "execution_count": 10,
   "metadata": {},
   "outputs": [
    {
     "name": "stdout",
     "output_type": "stream",
     "text": [
      "Columna            media       varianza     destandar     skew     kurtosis\n",
      "-----------  -----------  --------------  ------------  -------  ----------\n",
      "pl_orbper      22.2452      6301.38          79.3812          0          -3\n",
      "pl_orbsmax      0.113915       0.0366069      0.191329        0          -3\n",
      "pl_orbeccen     0.141675       0.0223161      0.149386        0          -3\n",
      "pl_orbincl     87.4936         5.03126        2.24305         0          -3\n",
      "pl_bmassj       1.39982        8.46315        2.90915         0          -3\n",
      "pl_radj         0.940564       0.222015       0.471184        0          -3\n",
      "pl_dens         2.10032        8.96212        2.99368         0          -3\n",
      "st_dist       525.087     178314            422.273           0          -3\n",
      "st_teff      5526.67      691769            831.726           0          -3\n",
      "st_mass         1.02165        0.0820673      0.286474        0          -3\n",
      "st_rad          1.18312        0.272893       0.522392        0          -3\n"
     ]
    }
   ],
   "source": [
    "#print ('Columna','\\t','media','\\t','varianza ','\\t','destandar ','\\t','skew ','\\t','kurtosis' )\n",
    "b = ['pl_orbper', 'pl_orbsmax', 'pl_orbeccen', 'pl_orbincl', 'pl_bmassj', 'pl_radj', 'pl_dens', 'st_dist', 'st_teff', 'st_mass', 'st_rad']  \n",
    "c = []\n",
    "c.append(['Columna','media','varianza ','destandar ','skew ','kurtosis'])\n",
    "for i in arange(len(data[0,:])):\n",
    "    a=Datasp(data[:,i])\n",
    "    c.append([b[i],a.md(),a.vr(),a.ds(),a.sk(),a.kr()])\n",
    "print(tabulate(c, headers='firstrow'))"
   ]
  },
  {
   "cell_type": "code",
   "execution_count": 5,
   "metadata": {},
   "outputs": [
    {
     "name": "stdout",
     "output_type": "stream",
     "text": [
      "la covarianza es: 14.23\n",
      "la correlación es: 0.94\n"
     ]
    }
   ],
   "source": [
    "a1=Datasp(data[:,0])\n",
    "a2=Datasp(data[:,1])\n",
    "a3=Datasp(data[:,2])\n",
    "a4=Datasp(data[:,3])\n",
    "a5=Datasp(data[:,4])\n",
    "a6=Datasp(data[:,5])\n",
    "a7=Datasp(data[:,6])\n",
    "a8=Datasp(data[:,7])\n",
    "a9=Datasp(data[:,8])\n",
    "a10=Datasp(data[:,9])\n",
    "a11=Datasp(data[:,10])\n",
    "d=Datasp(data[:,[0,1]])\n",
    "\n",
    "#print(data[0,1])\n",
    "\n",
    "#print(data[:,[0,2]])# podemos seleccionar las colunmas con las cuales queremos trabajar\n",
    "\n",
    "#print(shape(data[:,[0,6]])) # tamaño\n",
    "\n",
    "\n",
    "\n",
    "\n",
    "print(\"la covarianza es:\", format(d.cv(), '.2f'))\n",
    "print(\"la correlación es:\", format (d.cr(), '.2f'))"
   ]
  }
 ],
 "metadata": {
  "kernelspec": {
   "display_name": "Python 3",
   "language": "python",
   "name": "python3"
  },
  "language_info": {
   "codemirror_mode": {
    "name": "ipython",
    "version": 3
   },
   "file_extension": ".py",
   "mimetype": "text/x-python",
   "name": "python",
   "nbconvert_exporter": "python",
   "pygments_lexer": "ipython3",
   "version": "3.5.2"
  }
 },
 "nbformat": 4,
 "nbformat_minor": 2
}
