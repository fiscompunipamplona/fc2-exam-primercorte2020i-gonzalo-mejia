{
 "cells": [
  {
   "cell_type": "markdown",
   "metadata": {},
   "source": [
    "# Exámen Física computacional II (2020-I)\n",
    "\n",
    "## Primera parte: interpretación de los momentos de una distribución para un conjunto de datos\n",
    "\n",
    "En esta primera parte interpretaremos los momentos, covarianza y correlación de las variables columna dedas en el archivo “planets_2020.04.13_08.06.56.tab”, el cual contiene información   de la NASA  sobre explanetas que han sido decubiertos.\n",
    "\n",
    "La estructura del archivo *planets_2020.04.13_08.06.56.tab* está dada por filas y columnas, donde cada fila corresponde a la información de un exoplaneta, y las columnas están organizadas de la siguiente manera:\n",
    "\n",
    "pl_orbper  pl_orbsmax  pl_orbeccen pl_orbincl  pl_bmassj pl_radj pl_dens st_dist st_teff st_mass st_rad\n",
    "\n",
    "donde:\n",
    "\n",
    "- **pl_orbper**: período orbital\n",
    "\n",
    "- **pl_orbsmax**: distancia orbital del semi-eje mayor\n",
    "\n",
    "- **pl_orbeccen**: excentricidad\n",
    "\n",
    "- **pl_orbincl**: ángulo de inclinación\n",
    "\n",
    "- **pl_bmassj**: masa del planeta; en unidades de la masa de Júpiter\n",
    "\n",
    "- **pl_radj**: radio del planeta; en unidades del radio de Júpiter\n",
    "\n",
    "- **pl_dens**: densidad del plante; en unidades de la densidad de Júpiter\n",
    "\n",
    "- **st_dist**: distancia desde la Tierra; en unidades de parsec\n",
    "\n",
    "- **st_teff**: temperatura efectiva de la estrella; en unidades de K\n",
    "\n",
    "- **st_mass**: masa de la estrella; en unidades de masa solar\n",
    "\n",
    "- **st_rad**: radio de la estretlla; en unidades de radio solar"
   ]
  },
  {
   "cell_type": "markdown",
   "metadata": {},
   "source": [
    "Comenzaremos haciendo una class en la cual crearemos los codigos para calcular los momentos de una distribución como:\n",
    "- **media**\n",
    "- **varianza**\n",
    "- **desvación estandar**\n",
    "- **skew**\n",
    "- **kurtosis**\n",
    "- **covarianza**\n",
    "- **correlación**"
   ]
  },
  {
   "cell_type": "code",
   "execution_count": 1,
   "metadata": {},
   "outputs": [],
   "source": [
    "from parcial import Datasp # llamamos la class\n",
    "from numpy import* # importar libreria numpy\n",
    "from tabulate import tabulate # importar libreria tabulate"
   ]
  },
  {
   "cell_type": "code",
   "execution_count": 2,
   "metadata": {},
   "outputs": [
    {
     "name": "stdout",
     "output_type": "stream",
     "text": [
      "1.51087081\n",
      "(218, 11)\n"
     ]
    }
   ],
   "source": [
    "data = loadtxt('planets_2020.04.13_08.06.56.tab')#extraer datos\n",
    "print(data[0,0]) #mostrar el primer valor del vector\n",
    "print(shape(data))# ver tamaño del vector"
   ]
  },
  {
   "cell_type": "code",
   "execution_count": 3,
   "metadata": {},
   "outputs": [
    {
     "name": "stdout",
     "output_type": "stream",
     "text": [
      "Columna        media    varianza     destandar     skew     kurtosis\n",
      "-----------  -------  -----------  ------------  -------  ----------\n",
      "pl_orbper      22.25      6301.38         79.38    10.3       125.87\n",
      "pl_orbsmax      0.11         0.04          0.19     5.86       47.6\n",
      "pl_orbeccen     0.14         0.02          0.15     1.87        3.67\n",
      "pl_orbincl     87.49         5.03          2.24    -1.53        3.55\n",
      "pl_bmassj       1.4          8.46          2.91     5.28       36.04\n",
      "pl_radj         0.94         0.22          0.47    -0.34       -0.83\n",
      "pl_dens         2.1          8.96          2.99     3.28       16.02\n",
      "st_dist       525.09    178314           422.27     1.89        7.19\n",
      "st_teff      5526.67    691769           831.73    -1.4         3.5\n",
      "st_mass         1.02         0.08          0.29    -0.84        2.46\n",
      "st_rad          1.18         0.27          0.52     1.41        5\n"
     ]
    }
   ],
   "source": [
    "#creando una tabla donde b es una fila y c es una columna\n",
    "\n",
    "b = ['pl_orbper', 'pl_orbsmax', 'pl_orbeccen', 'pl_orbincl', 'pl_bmassj', 'pl_radj', 'pl_dens', 'st_dist', 'st_teff', 'st_mass', 'st_rad']  \n",
    "c = []\n",
    "c.append(['Columna','media','varianza ','destandar ','skew ','kurtosis'])\n",
    "\n",
    "#En el for vamos a calular cada momento los cuales vamos ir llamando de la class que creamos y los vamos ir guardando e imprimiendo en la tabla. \n",
    "\n",
    "for i in arange(len(data[0,:])):# [0,:] esto quiere decir que tomaremos toda la \n",
    "    a=Datasp(data[:,i]) # [:,i] tomar toda la i-esima columna\n",
    "    c.append([b[i],format (a.md(), '.2f'),format (a.vr(), '.2f'),format(a.ds(), '.2f'),format(a.sk(), '.2f'),format(a.kr(), '.2f')]) # calculo de los momentos\n",
    "print(tabulate(c, headers='firstrow')) # imprimimos con tabulate la cual imprime tablas a partir de los datos de entrada"
   ]
  },
  {
   "cell_type": "markdown",
   "metadata": {},
   "source": [
    "En la tabla anterior podemos observar los cálculos de los momentos de una distribución  de cada una de las columnas  del archivo el cual contiene información de la NASA sobre explanetas que han sido descubiertos.\n",
    "\n",
    "Aqui podemos observar:\n",
    "\n",
    "**MEDIA**: Es el valor obtenido al sumar todos los datos y dividir el resultado entre el número total de elementos.\n",
    "\n",
    "**VARIANZA**: La varianza es la media del cuadrado de las desviaciones respecto a la media de una distribución, es decir, la varianza intenta describir la dispersión de los datos.\n",
    "\n",
    "**DESVIACIÓN ESTANDAR**: La desviación es la raíz cuadrada de la varianza. Esta nos indica qué tan dispersos están los datos con respecto a la media. Mientras mayor sea la desviación estándar, mayor será la dispersión de los datos.\n",
    "\n",
    "**SKEW**: Es una medida de la asimetria de los datos sobre la media.\n",
    "\n",
    "Si SKEW > 0, la distribución es asimétrica positiva o a la derecha.\n",
    "\n",
    "Si SKEW < 0, la distribución es asimétrica negativa o a la izquierda.\n",
    "\n",
    "Si la distribución es simétrica, entonces sabemos que SKEW = 0 \n",
    "\n",
    "**KURTOSIS**: Es una medida de la forma de la distribución. La kurtosis compara la cantidad de datos cerca de la media con los que están más lejos de la media(en las colas)."
   ]
  },
  {
   "cell_type": "markdown",
   "metadata": {},
   "source": [
    "Ahora evaluaremos la covarianza y la correlación.\n",
    "\n",
    "**correlación**:La correlación trata de establecer la relación o dependencia que existe entre las dos variables que intervienen en una distribución bidimensional. Es decir, determinar si los cambios en una de las variables influyen en los cambios de la otra. En caso de que suceda, diremos que las variables están correlacionadas o que hay correlación entre ellas. La correlación es positiva cuando los valores de las variables aumenta juntos; y es negativa cuando un valor de una variable se reduce cuando el valor de la otra variable aumenta.\n",
    "\n",
    "**covarianza**:La covarianza es el equivalente de la varianza aplicado a una variable bidimensional. Es la media aritmética de los productos de las desviaciones de cada una de las variables respecto a sus medias respectivas.La covarianza indica el sentido de la correlación entre las variables;\n",
    "\n",
    "si cov (+) = las dos tienen una correlación, es decir, ambas crecen simultaneamente en pocas palabras tenemos una correlación directa.\n",
    "\n",
    "si cov (-) = tenemos una correlación inversa, es decir, mientras una crece la otra decrece."
   ]
  },
  {
   "cell_type": "code",
   "execution_count": 4,
   "metadata": {},
   "outputs": [
    {
     "name": "stdout",
     "output_type": "stream",
     "text": [
      "la covarianza es: 0.00\n",
      "la correlación es: 0.05\n"
     ]
    }
   ],
   "source": [
    "d=Datasp(data[:,[1,2]]) # podemos seleccionar las colunmas con las cuales queremos evaluar\n",
    "\n",
    "print(\"la covarianza es:\", format(d.cv(), '.2f'))\n",
    "print(\"la correlación es:\", format (d.cr(), '.2f'))"
   ]
  },
  {
   "cell_type": "markdown",
   "metadata": {},
   "source": [
    "En este caso calculamos la covarianza y la correlación entre las columnas  de la distamcia orbital del semieje mayor y la excentricidad. En este caso podemos observar que la covarianza es: 0.00,  lo cual nos indica que los dos datos tienen una relación directa, es decir ambos crecen simultáneamente y la correlación es: 0.05, lo cual nos indica que las variables tienen una correlación positiva y son dependientes; es decir, tienen una relación fuerte entre ellas.\n",
    "\n",
    "Físicamente esta relación viene dada por la tercera ley de Kepler la cual nos relaciona la excentricidad de un planeta y el semieje mayor de la elipse, es decir, la excentricidad de una elipse es la razón entre su semidistancia focal y su semieje mayor. "
   ]
  },
  {
   "cell_type": "code",
   "execution_count": 5,
   "metadata": {},
   "outputs": [
    {
     "name": "stdout",
     "output_type": "stream",
     "text": [
      "la covarianza es: 0.02\n",
      "la correlación es: 0.05\n"
     ]
    }
   ],
   "source": [
    "d=Datasp(data[:,[2,3]]) # podemos seleccionar las colunmas con las cuales queremos evaluar\n",
    "\n",
    "print(\"la covarianza es:\", format(d.cv(), '.2f'))\n",
    "print(\"la correlación es:\", format (d.cr(), '.2f'))"
   ]
  },
  {
   "cell_type": "markdown",
   "metadata": {},
   "source": [
    "Aqui podemos observar la relación que hay entre la excentricidad y el ángulo de inclinación de los cual podemos observar que la covarianza es: 0.02 y la correlación es: 0.05, datos muy parecidos a los anteriores ya que la excentricidad tambien esta bastante relacionada con el angulo de inclinación de los planetas.\n",
    "\n",
    "Fisicamente observamos que a medida que el ángulo de inclinación cambia, $0<φ<π$, la excentricidad de la elipse varía\n",
    "\n",
    "    La excentricidad es máxima ε=1, cuando φ=0\n",
    "\n",
    "    La excentricidad es mínima ε=(p-2)/p, cuando φ=π/2\n"
   ]
  },
  {
   "cell_type": "markdown",
   "metadata": {},
   "source": [
    "## Segunda parte: análisis de datos del Covi-19 en Colombia \n",
    "\n",
    "En esta segunda parte realizaremos el análisis estadístico sobre los datos reportados por el Instituto Nacional de Salud de Colombia de personas infectadas por Covid-19.\n",
    "\n",
    "El archivo que utilizaremos es *Casos1_13abr2020.csv*, que contiene los datos actualizados a las 11:00 am del 13 de abril de 2020.\n",
    "\n",
    "Para esto usaremos la libreia Pandas, sta es la librería más popular para análisis de datos. Posee algunas funciones muy útiles para realizar estadística descriptiva sobre nuestros datos y nos facilita sobremanera el trabajar con series de tiempo.\n"
   ]
  },
  {
   "cell_type": "code",
   "execution_count": 6,
   "metadata": {},
   "outputs": [],
   "source": [
    "import pandas as pd # importar libreria pandas\n",
    "from numpy import array, arange, transpose # importar libreria numpy\n",
    "from pylab import plot, show, grid, xticks, xlim, rcParams, legend # importar libreria pylab"
   ]
  },
  {
   "cell_type": "code",
   "execution_count": 7,
   "metadata": {},
   "outputs": [],
   "source": [
    "data1 = pd.read_csv('Casos1_13abr2020.csv') # Leyendo datos desde el archivo Casos1_13abr2020.csv"
   ]
  },
  {
   "cell_type": "code",
   "execution_count": 8,
   "metadata": {},
   "outputs": [
    {
     "data": {
      "text/html": [
       "<div>\n",
       "<style scoped>\n",
       "    .dataframe tbody tr th:only-of-type {\n",
       "        vertical-align: middle;\n",
       "    }\n",
       "\n",
       "    .dataframe tbody tr th {\n",
       "        vertical-align: top;\n",
       "    }\n",
       "\n",
       "    .dataframe thead th {\n",
       "        text-align: right;\n",
       "    }\n",
       "</style>\n",
       "<table border=\"1\" class=\"dataframe\">\n",
       "  <thead>\n",
       "    <tr style=\"text-align: right;\">\n",
       "      <th></th>\n",
       "      <th>ID de caso</th>\n",
       "      <th>Fecha de diagnóstico</th>\n",
       "      <th>Ciudad de ubicación</th>\n",
       "      <th>Departamento o Distrito</th>\n",
       "      <th>Atención**</th>\n",
       "      <th>Edad</th>\n",
       "      <th>Sexo</th>\n",
       "      <th>Tipo*</th>\n",
       "      <th>País de procedencia</th>\n",
       "    </tr>\n",
       "  </thead>\n",
       "  <tbody>\n",
       "    <tr>\n",
       "      <th>0</th>\n",
       "      <td>1</td>\n",
       "      <td>06/03/2020</td>\n",
       "      <td>BOGOTA</td>\n",
       "      <td>Bogotá D.C.</td>\n",
       "      <td>Recuperado</td>\n",
       "      <td>19</td>\n",
       "      <td>F</td>\n",
       "      <td>Importado</td>\n",
       "      <td>ITALIA</td>\n",
       "    </tr>\n",
       "    <tr>\n",
       "      <th>1</th>\n",
       "      <td>2</td>\n",
       "      <td>09/03/2020</td>\n",
       "      <td>BUGA</td>\n",
       "      <td>Valle del Cauca</td>\n",
       "      <td>Recuperado</td>\n",
       "      <td>34</td>\n",
       "      <td>M</td>\n",
       "      <td>Importado</td>\n",
       "      <td>ESPAÑA</td>\n",
       "    </tr>\n",
       "    <tr>\n",
       "      <th>2</th>\n",
       "      <td>3</td>\n",
       "      <td>09/03/2020</td>\n",
       "      <td>MEDELLIN</td>\n",
       "      <td>Antioquia</td>\n",
       "      <td>Recuperado</td>\n",
       "      <td>50</td>\n",
       "      <td>F</td>\n",
       "      <td>Importado</td>\n",
       "      <td>ESPAÑA</td>\n",
       "    </tr>\n",
       "    <tr>\n",
       "      <th>3</th>\n",
       "      <td>4</td>\n",
       "      <td>11/03/2020</td>\n",
       "      <td>MEDELLIN</td>\n",
       "      <td>Antioquia</td>\n",
       "      <td>Recuperado</td>\n",
       "      <td>55</td>\n",
       "      <td>M</td>\n",
       "      <td>Relacionado</td>\n",
       "      <td>COLOMBIA</td>\n",
       "    </tr>\n",
       "    <tr>\n",
       "      <th>4</th>\n",
       "      <td>5</td>\n",
       "      <td>11/03/2020</td>\n",
       "      <td>MEDELLIN</td>\n",
       "      <td>Antioquia</td>\n",
       "      <td>Recuperado</td>\n",
       "      <td>25</td>\n",
       "      <td>M</td>\n",
       "      <td>Relacionado</td>\n",
       "      <td>COLOMBIA</td>\n",
       "    </tr>\n",
       "    <tr>\n",
       "      <th>5</th>\n",
       "      <td>6</td>\n",
       "      <td>11/03/2020</td>\n",
       "      <td>ITAGUI</td>\n",
       "      <td>Antioquia</td>\n",
       "      <td>Recuperado</td>\n",
       "      <td>27</td>\n",
       "      <td>F</td>\n",
       "      <td>Relacionado</td>\n",
       "      <td>COLOMBIA</td>\n",
       "    </tr>\n",
       "    <tr>\n",
       "      <th>6</th>\n",
       "      <td>7</td>\n",
       "      <td>11/03/2020</td>\n",
       "      <td>CARTAGENA</td>\n",
       "      <td>Cartagena D.T. y C</td>\n",
       "      <td>Recuperado</td>\n",
       "      <td>85</td>\n",
       "      <td>F</td>\n",
       "      <td>Importado</td>\n",
       "      <td>ESTADOS UNIDOS DE AMÉRICA</td>\n",
       "    </tr>\n",
       "    <tr>\n",
       "      <th>7</th>\n",
       "      <td>8</td>\n",
       "      <td>11/03/2020</td>\n",
       "      <td>BOGOTA</td>\n",
       "      <td>Bogotá D.C.</td>\n",
       "      <td>Recuperado</td>\n",
       "      <td>22</td>\n",
       "      <td>F</td>\n",
       "      <td>Importado</td>\n",
       "      <td>ESPAÑA</td>\n",
       "    </tr>\n",
       "    <tr>\n",
       "      <th>8</th>\n",
       "      <td>9</td>\n",
       "      <td>11/03/2020</td>\n",
       "      <td>BOGOTA</td>\n",
       "      <td>Bogotá D.C.</td>\n",
       "      <td>Recuperado</td>\n",
       "      <td>28</td>\n",
       "      <td>F</td>\n",
       "      <td>Importado</td>\n",
       "      <td>ESPAÑA</td>\n",
       "    </tr>\n",
       "    <tr>\n",
       "      <th>9</th>\n",
       "      <td>10</td>\n",
       "      <td>12/03/2020</td>\n",
       "      <td>BOGOTA</td>\n",
       "      <td>Bogotá D.C.</td>\n",
       "      <td>Recuperado</td>\n",
       "      <td>36</td>\n",
       "      <td>F</td>\n",
       "      <td>Importado</td>\n",
       "      <td>ESPAÑA</td>\n",
       "    </tr>\n",
       "  </tbody>\n",
       "</table>\n",
       "</div>"
      ],
      "text/plain": [
       "   ID de caso Fecha de diagnóstico Ciudad de ubicación  \\\n",
       "0           1           06/03/2020              BOGOTA   \n",
       "1           2           09/03/2020                BUGA   \n",
       "2           3           09/03/2020            MEDELLIN   \n",
       "3           4           11/03/2020            MEDELLIN   \n",
       "4           5           11/03/2020            MEDELLIN   \n",
       "5           6           11/03/2020              ITAGUI   \n",
       "6           7           11/03/2020           CARTAGENA   \n",
       "7           8           11/03/2020              BOGOTA   \n",
       "8           9           11/03/2020              BOGOTA   \n",
       "9          10           12/03/2020              BOGOTA   \n",
       "\n",
       "  Departamento o Distrito  Atención**  Edad Sexo        Tipo*  \\\n",
       "0             Bogotá D.C.  Recuperado    19    F    Importado   \n",
       "1         Valle del Cauca  Recuperado    34    M    Importado   \n",
       "2               Antioquia  Recuperado    50    F    Importado   \n",
       "3               Antioquia  Recuperado    55    M  Relacionado   \n",
       "4               Antioquia  Recuperado    25    M  Relacionado   \n",
       "5               Antioquia  Recuperado    27    F  Relacionado   \n",
       "6      Cartagena D.T. y C  Recuperado    85    F    Importado   \n",
       "7             Bogotá D.C.  Recuperado    22    F    Importado   \n",
       "8             Bogotá D.C.  Recuperado    28    F    Importado   \n",
       "9             Bogotá D.C.  Recuperado    36    F    Importado   \n",
       "\n",
       "         País de procedencia  \n",
       "0                     ITALIA  \n",
       "1                     ESPAÑA  \n",
       "2                     ESPAÑA  \n",
       "3                   COLOMBIA  \n",
       "4                   COLOMBIA  \n",
       "5                   COLOMBIA  \n",
       "6  ESTADOS UNIDOS DE AMÉRICA  \n",
       "7                     ESPAÑA  \n",
       "8                     ESPAÑA  \n",
       "9                     ESPAÑA  "
      ]
     },
     "execution_count": 8,
     "metadata": {},
     "output_type": "execute_result"
    }
   ],
   "source": [
    "data1.head(10) # Muestra las primeras diez líneas del archivo Casos1_13abr2020.csv"
   ]
  },
  {
   "cell_type": "markdown",
   "metadata": {},
   "source": [
    "Una vez cargado el archivo vamos a sacar la información de nuestro interes con el objetico de analizar estos datos.\n",
    "\n",
    "Para esto utilizaremos la función **DataFrame** de la libreria pandas la cual nos permite extraer información de nuestro interez del archivo."
   ]
  },
  {
   "cell_type": "code",
   "execution_count": 9,
   "metadata": {},
   "outputs": [],
   "source": [
    "dataSex = pd.DataFrame(data1, columns= ['Fecha de diagnóstico','Sexo','Edad', 'Atención**']) # Cargando en la variable dataSex los campos: Fecha diagnóstico, Sexo y Edad"
   ]
  },
  {
   "cell_type": "markdown",
   "metadata": {},
   "source": [
    "Ahora realizaremos un conteo agrupando la información que cargamos en dataSex, para ello utilizaremos la función **groupby** \n",
    "\n",
    "Para este caso analizaremos el numero de hombres y mujeres infectafdos y teniendo en cuenta en cuenta las edades por genero."
   ]
  },
  {
   "cell_type": "code",
   "execution_count": 10,
   "metadata": {},
   "outputs": [
    {
     "name": "stdout",
     "output_type": "stream",
     "text": [
      "Edad\n",
      "1      5\n",
      "2      7\n",
      "3      2\n",
      "4      1\n",
      "5      4\n",
      "6      3\n",
      "7      1\n",
      "8      8\n",
      "9      5\n",
      "10     0\n",
      "11     3\n",
      "12     2\n",
      "13     1\n",
      "14     3\n",
      "15     7\n",
      "16     5\n",
      "17     5\n",
      "18    13\n",
      "19    11\n",
      "20     7\n",
      "21    20\n",
      "22    26\n",
      "23    26\n",
      "24    26\n",
      "25    22\n",
      "26    38\n",
      "27    30\n",
      "28    31\n",
      "29    36\n",
      "30    42\n",
      "      ..\n",
      "69    11\n",
      "70     6\n",
      "71     8\n",
      "72     6\n",
      "73    11\n",
      "74    13\n",
      "75     6\n",
      "76     6\n",
      "77     3\n",
      "78     5\n",
      "79     5\n",
      "80     6\n",
      "81     2\n",
      "82     3\n",
      "83     4\n",
      "84     5\n",
      "85     5\n",
      "86     1\n",
      "87     3\n",
      "88     2\n",
      "89     2\n",
      "90     1\n",
      "91     2\n",
      "92     0\n",
      "93     3\n",
      "94     2\n",
      "95     1\n",
      "96     1\n",
      "97     1\n",
      "98     0\n",
      "Name: Sexo, Length: 98, dtype: int64 Edad\n",
      "1      4\n",
      "2      7\n",
      "3      3\n",
      "4      1\n",
      "5      3\n",
      "6      4\n",
      "7      2\n",
      "8      4\n",
      "9      4\n",
      "10     7\n",
      "11     2\n",
      "12     6\n",
      "13     6\n",
      "14     5\n",
      "15     7\n",
      "16     2\n",
      "17     4\n",
      "18    11\n",
      "19     9\n",
      "20    13\n",
      "21    14\n",
      "22    11\n",
      "23    17\n",
      "24    28\n",
      "25    32\n",
      "26    30\n",
      "27    22\n",
      "28    39\n",
      "29    38\n",
      "30    29\n",
      "      ..\n",
      "69     8\n",
      "70    17\n",
      "71    11\n",
      "72    19\n",
      "73    12\n",
      "74     6\n",
      "75     9\n",
      "76     6\n",
      "77     9\n",
      "78     7\n",
      "79     4\n",
      "80     5\n",
      "81     3\n",
      "82     5\n",
      "83     3\n",
      "84     4\n",
      "85     2\n",
      "86     1\n",
      "87     3\n",
      "88     4\n",
      "89     1\n",
      "90     2\n",
      "91     1\n",
      "92     1\n",
      "93     0\n",
      "94     0\n",
      "95     0\n",
      "96     0\n",
      "97     0\n",
      "98     1\n",
      "Name: Sexo, Length: 98, dtype: int64\n"
     ]
    }
   ],
   "source": [
    "histo1 = dataSex.groupby('Edad')['Sexo'].sum() # Suma el número de apariciones de M y F: Masculino, Femenino\n",
    "\n",
    "print(histo1.str.count('F'), histo1.str.count('M')) \n"
   ]
  },
  {
   "cell_type": "markdown",
   "metadata": {},
   "source": [
    "Aqui podemos observar de acuerdo al archivo inicial suministrado por el Instituto Nacional de Salud de Colombia cuantas hombres y cuantas mujeres por edad estan infectadas por Covid-19."
   ]
  },
  {
   "cell_type": "markdown",
   "metadata": {},
   "source": [
    "Ahora vamos a graficar esta información, es decir vamos a ver de acuerdo al rango de edad cuantas hombres y cuantas mujeres han sido  infectadas por Covid-19."
   ]
  },
  {
   "cell_type": "code",
   "execution_count": 11,
   "metadata": {},
   "outputs": [
    {
     "name": "stdout",
     "output_type": "stream",
     "text": [
      "hombres: 1405 50.61 %\n",
      "Mujeres: 1371 49.39 %\n",
      "Total: 2776\n"
     ]
    }
   ],
   "source": [
    "hom = histo1.str.count('M') # str nos cuenta cuantas veces aparece la letra M\n",
    "muj = histo1.str.count('F') # str nos cuenta cuantas veces aparece la letra F\n",
    "total = hom.sum()+muj.sum() \n",
    "\n",
    "#imprimiendo\n",
    "\n",
    "print(\"hombres:\",hom.sum(), round((hom.sum()/total)*100,2), \"%\") # imprimimos el total de hombres infectados y el parcentaje del total de personas infectadas\n",
    "print(\"Mujeres:\",muj.sum(), round((muj.sum()/total)*100,2), \"%\") # imprimimos el total de mujeres infectadas y el parcentaje del total de personas infectadas\n",
    "print(\"Total:\", total)"
   ]
  },
  {
   "cell_type": "code",
   "execution_count": 12,
   "metadata": {},
   "outputs": [
    {
     "data": {
      "image/png": "[encoded data removed]",
      "text/plain": [
       "<Figure size 864x432 with 1 Axes>"
      ]
     },
     "metadata": {
      "needs_background": "light"
     },
     "output_type": "display_data"
    }
   ],
   "source": [
    "rcParams['figure.figsize'] = 12, 6\n",
    "\n",
    "plot(histo1.str.count('M'),'bx', label='Hombres')\n",
    "plot(histo1.str.count('F'),'r.', label='Mujeres')\n",
    "xticks(arange(0, 100, step=3.), rotation=90)\n",
    "grid()\n",
    "legend()\n",
    "show()"
   ]
  },
  {
   "cell_type": "markdown",
   "metadata": {},
   "source": [
    "En la grafica podemos observar que las cruces azules correponden al conteo de hombres y los puntos rojos conrreponden al conteo de mujeres, aqui podemos observar que no hay tanta diferencia en el numero de mujeres y hombres reportados por edades pero aun asi podemos ver que los hombres siempre estan por encima de las mujeres, tambien podemos ibservar que en la edad entre los 27 y 33 años tenemos la mayor cantidad de infectados."
   ]
  },
  {
   "cell_type": "markdown",
   "metadata": {},
   "source": [
    "A continuación convertiremos de formato Pandas a Array. De esta manera puedemos calcular los momentos de una distribución"
   ]
  },
  {
   "cell_type": "code",
   "execution_count": 13,
   "metadata": {},
   "outputs": [],
   "source": [
    "homb = array( histo1.str.count('M') )\n",
    "muje = array( histo1.str.count('F') )\n",
    "\n",
    "\n",
    "#print(homb[0], muje[0])\n",
    "\n",
    "#plot(homb, 'ob')\n",
    "#plot(muje, 'xr')\n",
    "#grid()\n",
    "#show()"
   ]
  },
  {
   "cell_type": "code",
   "execution_count": 14,
   "metadata": {},
   "outputs": [
    {
     "name": "stdout",
     "output_type": "stream",
     "text": [
      "Sexo      media    varianza     destandar     skew     kurtosis\n",
      "------  -------  -----------  ------------  -------  ----------\n",
      "hombre    14.34       132.08         11.49     0.44       -1.12\n",
      "mujer     13.99       132.11         11.49     0.52       -1\n"
     ]
    }
   ],
   "source": [
    "\n",
    "x = ['hombre', 'mujer']  \n",
    "y = []\n",
    "y.append(['Sexo','media','varianza ','destandar ','skew ','kurtosis'])\n",
    "\n",
    "data2 = zeros((len(homb),2)) # convertimos filas en colunmas ya que necesitamos colunmas para poder hacer el caluculo\n",
    "data2[:,0] = homb[:]\n",
    "data2[:,1] = muje[:]\n",
    "#print(data2)\n",
    "\n",
    "#En el for vamos a calular cada momento los cuales vamos ir llamando de la class que creamos y los vamos ir guardando e imprimiendo en la tabla. \n",
    "\n",
    "for j in arange(len(data2[0,:])):# [0,:] esto quiere decir que tomaremos toda la \n",
    "    a=Datasp(data2[:,j]) # [:,i] tomar toda la i-esima columna\n",
    "    y.append([x[j],format (a.md(), '.2f'),format (a.vr(), '.2f'),format(a.ds(), '.2f'),format(a.sk(), '.2f'),format(a.kr(), '.2f')]) # calculo de los momentos\n",
    "print(tabulate(y, headers='firstrow')) # imprimimos con tabulate la cual imprime tablas a partir de los datos de entrada"
   ]
  },
  {
   "cell_type": "markdown",
   "metadata": {},
   "source": [
    "Comparando los datos podemos notar claramente que los hombres y las mujeres tienen una tendencia similar ya que su promedio es muy parecido."
   ]
  },
  {
   "cell_type": "code",
   "execution_count": 15,
   "metadata": {},
   "outputs": [
    {
     "name": "stdout",
     "output_type": "stream",
     "text": [
      "la covarianza es: 112.45\n",
      "la correlación es: 0.85\n"
     ]
    }
   ],
   "source": [
    "l=Datasp(data2)\n",
    "\n",
    "print(\"la covarianza es:\", format(l.cv(), '.2f'))\n",
    "print(\"la correlación es:\", format (l.cr(), '.2f'))"
   ]
  },
  {
   "cell_type": "markdown",
   "metadata": {},
   "source": [
    "En el analisis de la covarianza y la correlación podemos observar que como la covarianza nos dio positiva esta nos indica que los dos datos tienen una relación directa, es decir ambos crecen simultáneamente. Por otro lado podemos observar de la correlación que hay entre las variables esta entre 0 y 1, es decir, tienen una relación fuerte entre ellas, pero no hay una dependencia total."
   ]
  },
  {
   "cell_type": "markdown",
   "metadata": {},
   "source": [
    "Ahora realizaremos un breve analisis de los infectados por departamentes en este caso miraremos los casos por separados de hombres y mujeres."
   ]
  },
  {
   "cell_type": "code",
   "execution_count": 16,
   "metadata": {},
   "outputs": [],
   "source": [
    "dataSexD = pd.DataFrame(data1, columns= ['Ciudad de ubicación', 'Departamento o Distrito', 'Atención**', 'Sexo'])"
   ]
  },
  {
   "cell_type": "code",
   "execution_count": 17,
   "metadata": {},
   "outputs": [
    {
     "name": "stdout",
     "output_type": "stream",
     "text": [
      "Departamento o Distrito\n",
      "Antioquia                139\n",
      "Atlántico                 12\n",
      "Barranquilla D.E.         32\n",
      "Bogotá D.C.              596\n",
      "Bolívar                    3\n",
      "Boyacá                    16\n",
      "Buenaventura D.E.          2\n",
      "Caldas                    21\n",
      "Cartagena D.T. y C        58\n",
      "Casanare                   5\n",
      "Cauca                      9\n",
      "Cesar                      9\n",
      "Chocó                      1\n",
      "Cundinamarca              54\n",
      "Córdoba                    7\n",
      "Huila                     28\n",
      "La Guajira                 0\n",
      "Magdalena                  0\n",
      "Meta                      11\n",
      "Nariño                    13\n",
      "Norte de Santander        22\n",
      "Quindío                   22\n",
      "Risaralda                 33\n",
      "San Andrés                 0\n",
      "Santa Marta D.T. y C.     30\n",
      "Santander                 14\n",
      "Sucre                      1\n",
      "Tolima                    12\n",
      "Valle del Cauca          221\n",
      "Name: Sexo, dtype: int64 Departamento o Distrito\n",
      "Antioquia                121\n",
      "Atlántico                 10\n",
      "Barranquilla D.E.         34\n",
      "Bogotá D.C.              590\n",
      "Bolívar                    6\n",
      "Boyacá                    15\n",
      "Buenaventura D.E.          5\n",
      "Caldas                    13\n",
      "Cartagena D.T. y C        56\n",
      "Casanare                   2\n",
      "Cauca                     10\n",
      "Cesar                     23\n",
      "Chocó                      0\n",
      "Cundinamarca              58\n",
      "Córdoba                    6\n",
      "Huila                     24\n",
      "La Guajira                 1\n",
      "Magdalena                  4\n",
      "Meta                      10\n",
      "Nariño                    25\n",
      "Norte de Santander        21\n",
      "Quindío                   25\n",
      "Risaralda                 27\n",
      "San Andrés                 5\n",
      "Santa Marta D.T. y C.     27\n",
      "Santander                 15\n",
      "Sucre                      0\n",
      "Tolima                    11\n",
      "Valle del Cauca          261\n",
      "Name: Sexo, dtype: int64\n"
     ]
    }
   ],
   "source": [
    "histo2 = dataSexD.groupby('Departamento o Distrito')['Sexo'].sum() # Suma el número de apariciones de M y F: Masculino, Femenino\n",
    "\n",
    "print(histo2.str.count('F'), histo2.str.count('M'))"
   ]
  },
  {
   "cell_type": "markdown",
   "metadata": {},
   "source": [
    "Aqui podemos observar de acuerdo al archivo inicial suministrado por el Instituto Nacional de Salud de Colombia cuantas hombres y cuantas mujeres estan infectadas por Covid-19 por departamento."
   ]
  },
  {
   "cell_type": "markdown",
   "metadata": {},
   "source": [
    "Graficando estos resultados obtendremos:"
   ]
  },
  {
   "cell_type": "code",
   "execution_count": 18,
   "metadata": {},
   "outputs": [
    {
     "data": {
      "image/png": "[encoded data removed]",
      "text/plain": [
       "<Figure size 864x432 with 1 Axes>"
      ]
     },
     "metadata": {
      "needs_background": "light"
     },
     "output_type": "display_data"
    }
   ],
   "source": [
    "plot(histo2.str.count('M'),'bx')\n",
    "plot(histo2.str.count('F'),'r.')\n",
    "xticks(rotation=45)\n",
    "grid()\n",
    "show()"
   ]
  },
  {
   "cell_type": "markdown",
   "metadata": {},
   "source": [
    "Claramente podemos observar que en bogota se encuen tra la mayor cantidad de infectados tanto de hombres como de mujeres."
   ]
  },
  {
   "cell_type": "markdown",
   "metadata": {},
   "source": [
    "Ahora analizaremos la atención de los infectados por edades."
   ]
  },
  {
   "cell_type": "code",
   "execution_count": 19,
   "metadata": {},
   "outputs": [],
   "source": [
    "dataSexA = pd.DataFrame(data1, columns= ['Fecha de diagnóstico','Sexo','Edad', 'Atención**'])"
   ]
  },
  {
   "cell_type": "code",
   "execution_count": 20,
   "metadata": {},
   "outputs": [],
   "source": [
    "histAt = dataSexA.groupby('Edad')['Atención**'].sum()\n"
   ]
  },
  {
   "cell_type": "code",
   "execution_count": 21,
   "metadata": {},
   "outputs": [
    {
     "data": {
      "image/png": "[encoded data removed]",
      "text/plain": [
       "<Figure size 864x432 with 1 Axes>"
      ]
     },
     "metadata": {
      "needs_background": "light"
     },
     "output_type": "display_data"
    }
   ],
   "source": [
    "house = histAt.str.count('Casa')\n",
    "recov = histAt.str.count('Recuperado')\n",
    "death = histAt.str.count('Fallecido')\n",
    "\n",
    "plot(house, 'bo', label='Casa')\n",
    "plot(recov, 'ro', label='Recuperado')\n",
    "plot(death, 'gx', label='Fallecido')\n",
    "xticks( arange(0, 100, step=3.) )\n",
    "grid()\n",
    "show()"
   ]
  },
  {
   "cell_type": "markdown",
   "metadata": {},
   "source": [
    "En esta grafica podemos observar que la mayoria de personas fallecidad son mayores de 50 años, observamos que a la edad de 57 años han fallecido 6 personas y que los menores de 30 años hay menos fallecidos. Tambien podemos observar que la mayoria de recuperados estan por debajjo de los 50 años lo cual nos indica que los mayores de 50 años son mas propensos al virus. "
   ]
  },
  {
   "cell_type": "code",
   "execution_count": null,
   "metadata": {},
   "outputs": [],
   "source": []
  }
 ],
 "metadata": {
  "kernelspec": {
   "display_name": "Python 3",
   "language": "python",
   "name": "python3"
  },
  "language_info": {
   "codemirror_mode": {
    "name": "ipython",
    "version": 3
   },
   "file_extension": ".py",
   "mimetype": "text/x-python",
   "name": "python",
   "nbconvert_exporter": "python",
   "pygments_lexer": "ipython3",
   "version": "3.5.2"
  }
 },
 "nbformat": 4,
 "nbformat_minor": 2
}
